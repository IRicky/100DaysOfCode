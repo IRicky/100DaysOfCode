{
 "cells": [
  {
   "cell_type": "markdown",
   "metadata": {},
   "source": [
    "In this Bite you complete print_hanging_indents to print a poem (or text) in a nicer way.\n",
    "\n",
    "For example calling it on (part of) Christina Rosetti's Remember it should convert:\n",
    "\n",
    "                      Remember me when I am gone away,\n",
    "                      Gone far away into the silent land;\n",
    "                      When you can no more hold me by the hand,\n",
    "\n",
    "                      Nor I half turn to go yet turning stay.\n",
    "\n",
    "                      Remember me when no more day by day\n",
    "                      You tell me of our future that you planned:\n",
    "                      Only remember me; you understand\n",
    "to:\n",
    "Remember me when I am gone away,\n",
    "    Gone far away into the silent land;\n",
    "    When you can no more hold me by the hand,\n",
    "Nor I half turn to go yet turning stay.\n",
    "Remember me when no more day by day\n",
    "    You tell me of our future that you planned:\n",
    "    Only remember me; you understand\n",
    "print the resulting poem (don't return it)! The tests include another text snippet from Shakespeare. Have fun!"
   ]
  },
  {
   "cell_type": "code",
   "execution_count": 41,
   "metadata": {
    "collapsed": true
   },
   "outputs": [],
   "source": [
    "poema = \"\"\"                  Remember me when I am gone away,\n",
    "                  Gone far away into the silent land;\n",
    "                  When you can no more hold me by the hand,\n",
    "\n",
    "                  Nor I half turn to go yet turning stay.\n",
    "\n",
    "                  Remember me when no more day by day\n",
    "                  You tell me of our future that you planned:\n",
    "                  Only remember me; you understand\"\"\""
   ]
  },
  {
   "cell_type": "code",
   "execution_count": 106,
   "metadata": {
    "collapsed": false
   },
   "outputs": [],
   "source": [
    "import textwrap\n",
    "def poem(poema):\n",
    "    x=\"\"\n",
    "    x=textwrap.dedent(poema)\n",
    "    print(textwrap.indent(x, \"\\t\", lambda s: not s.endswith(\"\\b\")))"
   ]
  },
  {
   "cell_type": "code",
   "execution_count": 107,
   "metadata": {
    "collapsed": false
   },
   "outputs": [
    {
     "name": "stdout",
     "output_type": "stream",
     "text": [
      "\tRemember me when I am gone away,\n",
      "\tGone far away into the silent land;\n",
      "\tWhen you can no more hold me by the hand,\n",
      "\t\n",
      "\tNor I half turn to go yet turning stay.\n",
      "\t\n",
      "\tRemember me when no more day by day\n",
      "\tYou tell me of our future that you planned:\n",
      "\tOnly remember me; you understand\n"
     ]
    }
   ],
   "source": [
    "poem(poema)"
   ]
  },
  {
   "cell_type": "code",
   "execution_count": null,
   "metadata": {
    "collapsed": true
   },
   "outputs": [],
   "source": []
  }
 ],
 "metadata": {
  "kernelspec": {
   "display_name": "Python 3",
   "language": "python",
   "name": "python3"
  },
  "language_info": {
   "codemirror_mode": {
    "name": "ipython",
    "version": 3
   },
   "file_extension": ".py",
   "mimetype": "text/x-python",
   "name": "python",
   "nbconvert_exporter": "python",
   "pygments_lexer": "ipython3",
   "version": "3.5.3"
  }
 },
 "nbformat": 4,
 "nbformat_minor": 2
}
