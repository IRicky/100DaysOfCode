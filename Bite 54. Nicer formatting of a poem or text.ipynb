{
 "cells": [
  {
   "cell_type": "markdown",
   "metadata": {},
   "source": [
    "In this Bite you complete print_hanging_indents to print a poem (or text) in a nicer way.\n",
    "\n",
    "For example calling it on (part of) Christina Rosetti's Remember it should convert:\n",
    "\n",
    "                      Remember me when I am gone away,\n",
    "                      Gone far away into the silent land;\n",
    "                      When you can no more hold me by the hand,\n",
    "\n",
    "                      Nor I half turn to go yet turning stay.\n",
    "\n",
    "                      Remember me when no more day by day\n",
    "                      You tell me of our future that you planned:\n",
    "                      Only remember me; you understand\n",
    "to:\n",
    "Remember me when I am gone away,\n",
    "    Gone far away into the silent land;\n",
    "    When you can no more hold me by the hand,\n",
    "Nor I half turn to go yet turning stay.\n",
    "Remember me when no more day by day\n",
    "    You tell me of our future that you planned:\n",
    "    Only remember me; you understand\n",
    "print the resulting poem (don't return it)! The tests include another text snippet from Shakespeare. Have fun!"
   ]
  },
  {
   "cell_type": "code",
   "execution_count": 1,
   "metadata": {
    "collapsed": true
   },
   "outputs": [],
   "source": [
    "poema = \"\"\"                  Remember me when I am gone away,\n",
    "                  Gone far away into the silent land;\n",
    "                  When you can no more hold me by the hand,\n",
    "\n",
    "                  Nor I half turn to go yet turning stay.\n",
    "\n",
    "                  Remember me when no more day by day\n",
    "                  You tell me of our future that you planned:\n",
    "                  Only remember me; you understand\"\"\""
   ]
  },
  {
   "cell_type": "code",
   "execution_count": 2,
   "metadata": {
    "collapsed": false
   },
   "outputs": [],
   "source": [
    "INDENTS = 4\n",
    "\n",
    "\n",
    "def print_hanging_indents(poem):\n",
    "    \"\"\"You can use textwrap's fill but this worked better for us\"\"\"\n",
    "    for part in poem.split(\"\\n\\n\"):\n",
    "        lines = [line.strip() for line in part.splitlines()\n",
    "                 if line.strip()]\n",
    "        print(lines[0])\n",
    "        for line in lines[1:]:\n",
    "            print(' ' * INDENTS + line)"
   ]
  },
  {
   "cell_type": "code",
   "execution_count": 3,
   "metadata": {
    "collapsed": false
   },
   "outputs": [
    {
     "name": "stdout",
     "output_type": "stream",
     "text": [
      "Remember me when I am gone away,\n",
      "    Gone far away into the silent land;\n",
      "    When you can no more hold me by the hand,\n",
      "Nor I half turn to go yet turning stay.\n",
      "Remember me when no more day by day\n",
      "    You tell me of our future that you planned:\n",
      "    Only remember me; you understand\n"
     ]
    }
   ],
   "source": [
    "print_hanging_indents(poema)"
   ]
  },
  {
   "cell_type": "code",
   "execution_count": null,
   "metadata": {
    "collapsed": true
   },
   "outputs": [],
   "source": []
  }
 ],
 "metadata": {
  "kernelspec": {
   "display_name": "Python 3",
   "language": "python",
   "name": "python3"
  },
  "language_info": {
   "codemirror_mode": {
    "name": "ipython",
    "version": 3
   },
   "file_extension": ".py",
   "mimetype": "text/x-python",
   "name": "python",
   "nbconvert_exporter": "python",
   "pygments_lexer": "ipython3",
   "version": "3.5.3"
  }
 },
 "nbformat": 4,
 "nbformat_minor": 2
}
