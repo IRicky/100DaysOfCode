{
 "cells": [
  {
   "cell_type": "code",
   "execution_count": 65,
   "metadata": {
    "collapsed": false
   },
   "outputs": [],
   "source": [
    "import collections\n",
    "def tail(n,y):\n",
    "    if y<=0 or y==[]:\n",
    "        return []\n",
    "    else:\n",
    "        x=collections.deque(maxlen=y)\n",
    "        x.append(list(n)[-y:])\n",
    "        return(list(x[0]))"
   ]
  },
  {
   "cell_type": "code",
   "execution_count": 63,
   "metadata": {
    "collapsed": true
   },
   "outputs": [],
   "source": [
    "#maybe works, pyhtonista way\n",
    "import collections\n",
    "def tail(n,y):\n",
    "    x=collections.deque(maxlen=y)\n",
    "    x.append(list(n)[-y:])\n",
    "    return (list(x[0]) if y<0 or y!=[] else [])"
   ]
  },
  {
   "cell_type": "code",
   "execution_count": 66,
   "metadata": {
    "collapsed": false
   },
   "outputs": [
    {
     "name": "stdout",
     "output_type": "stream",
     "text": [
      "True\n",
      "True\n",
      "True\n",
      "True\n",
      "True\n",
      "True\n",
      "True\n",
      "True\n",
      "True\n",
      "True\n",
      "True\n",
      "[]\n",
      "True\n",
      "True\n"
     ]
    }
   ],
   "source": [
    "print(tail([1, 2], 0)== [])\n",
    "print(tail([1, 2], 1)==[2])\n",
    "print(tail([1, 2], 2)== [1, 2])\n",
    "nums = [1, 2, 3, 4]\n",
    "print(tail(nums, 5)==[1, 2, 3, 4])\n",
    "print(tail([], 10)== [])\n",
    "print(tail('hello', 2)==['l', 'o'])\n",
    "print(tail((1, 2, 3), 3)== [1, 2, 3])\n",
    "print(tail(nums, -1)== [])\n",
    "print(tail((), -9)== [])\n",
    "nums = (n**2 for n in [1, 2, 3, 4])\n",
    "print(tail(nums, -1)==[])\n",
    "print(tail(nums, 2)== [9, 16])\n",
    "print(list(nums))\n",
    "print(tail(nums, 0)== [])\n",
    "print(tail(nums, 1)==[])\n"
   ]
  },
  {
   "cell_type": "code",
   "execution_count": null,
   "metadata": {
    "collapsed": true
   },
   "outputs": [],
   "source": []
  }
 ],
 "metadata": {
  "kernelspec": {
   "display_name": "Python 3",
   "language": "python",
   "name": "python3"
  },
  "language_info": {
   "codemirror_mode": {
    "name": "ipython",
    "version": 3
   },
   "file_extension": ".py",
   "mimetype": "text/x-python",
   "name": "python",
   "nbconvert_exporter": "python",
   "pygments_lexer": "ipython3",
   "version": "3.5.3"
  }
 },
 "nbformat": 4,
 "nbformat_minor": 2
}
