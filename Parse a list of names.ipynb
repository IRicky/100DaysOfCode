{
 "cells": [
  {
   "cell_type": "markdown",
   "metadata": {},
   "source": [
    "In this bite you will work with a list of names.\n",
    "\n",
    "First you will write a function to take out duplicates and title case them.\n",
    "\n",
    "Then you will sort the list in alphabetical descending order by surname and lastly determine what the shortest first name is. For this exercise you can assume there is always one name and one surname.\n",
    "\n",
    "With some handy Python builtins you can write this in a pretty concise way. Get it sorted :)"
   ]
  },
  {
   "cell_type": "code",
   "execution_count": 113,
   "metadata": {
    "collapsed": false
   },
   "outputs": [],
   "source": [
    "NAMES = ['brian okken', 'michael kennedy', 'trey hunner',\n",
    "                       'matt harrison', 'julian sequeira', 'dan bader',\n",
    "                       'michael kennedy', 'brian okken', 'dan bader']\n",
    "\n",
    "\n",
    "\n",
    "def dedup_and_title_case_names(names):\n",
    "    names=list(dict.fromkeys(names))\n",
    "    names=[items.title() for items in names]\n",
    "    return names\n",
    "    \n",
    "\n",
    "\n",
    "def sort_by_surname_desc(names):\n",
    "    \"\"\"Returns names list sorted desc by surname\"\"\"\n",
    "    names = dedup_and_title_case_names(names)\n",
    "    return sorted(names,key=lambda x: x.split(\" \")[-1],)\n",
    "    \n",
    "\n",
    "\n",
    "def shortest_first_name(names):\n",
    "    \"\"\"Returns the shortest first name (str).\n",
    "       You can assume there is only one shortest name.\n",
    "    \"\"\"\n",
    "    names = dedup_and_title_case_names(names)\n",
    "    return (min(names,key=len)).split(' ')[0]"
   ]
  },
  {
   "cell_type": "code",
   "execution_count": 114,
   "metadata": {
    "collapsed": false
   },
   "outputs": [
    {
     "data": {
      "text/plain": [
       "'Dan'"
      ]
     },
     "execution_count": 114,
     "metadata": {},
     "output_type": "execute_result"
    }
   ],
   "source": [
    "shortest_first_name(NAMES)"
   ]
  },
  {
   "cell_type": "code",
   "execution_count": null,
   "metadata": {
    "collapsed": true
   },
   "outputs": [],
   "source": []
  }
 ],
 "metadata": {
  "kernelspec": {
   "display_name": "Python 3",
   "language": "python",
   "name": "python3"
  },
  "language_info": {
   "codemirror_mode": {
    "name": "ipython",
    "version": 3
   },
   "file_extension": ".py",
   "mimetype": "text/x-python",
   "name": "python",
   "nbconvert_exporter": "python",
   "pygments_lexer": "ipython3",
   "version": "3.5.3"
  }
 },
 "nbformat": 4,
 "nbformat_minor": 2
}
