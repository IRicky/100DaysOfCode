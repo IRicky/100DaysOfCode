{
 "cells": [
  {
   "cell_type": "markdown",
   "metadata": {},
   "source": [
    "How about writing a queue that holds the last 5 items?\n",
    "\n",
    "Queue follows First-In-First-Out methodology, i.e., the data item stored first will be accessed first. A real-world example of queue can be a single-lane one-way road, where the vehicle enters first, exits first. More real-world examples can be seen as queues at the ticket windows and bus-stops. [source]\n",
    "Complete the my_queue function to return a queue-like data type that keeps the last n items.\n",
    "\n",
    "Check the standard library to see how you can do this in the shortest/most efficient way.\n",
    "\n",
    "See an example output below and the tests that check for various values of n. Have fun!\n"
   ]
  },
  {
   "cell_type": "code",
   "execution_count": null,
   "metadata": {
    "collapsed": false
   },
   "outputs": [],
   "source": [
    "import collections\n",
    "def my_queue(n=5):\n",
    "    y=[]\n",
    "    x=collections.deque(maxlen=n)\n",
    "    for i in range(7):\n",
    "        x.append(i)\n",
    "    return x"
   ]
  },
  {
   "cell_type": "code",
   "execution_count": null,
   "metadata": {
    "collapsed": false
   },
   "outputs": [],
   "source": [
    "q1 = my_queue(5)\n",
    "q2 = my_queue(3)\n",
    "q3 = my_queue(7)"
   ]
  },
  {
   "cell_type": "code",
   "execution_count": 7,
   "metadata": {
    "collapsed": false
   },
   "outputs": [
    {
     "name": "stdout",
     "output_type": "stream",
     "text": [
      "(0, [0])\n",
      "(1, [0, 1])\n",
      "(2, [0, 1, 2])\n",
      "(3, [0, 1, 2, 3])\n",
      "(4, [0, 1, 2, 3, 4])\n",
      "(5, [1, 2, 3, 4, 5])\n",
      "(6, [2, 3, 4, 5, 6])\n",
      "(7, [3, 4, 5, 6, 7])\n",
      "(8, [4, 5, 6, 7, 8])\n",
      "(9, [5, 6, 7, 8, 9])\n"
     ]
    }
   ],
   "source": [
    "#!!!!WTFFFFFF\n",
    "from collections import deque\n",
    "def queue(n=5):\n",
    "    return deque(maxlen=n)\n",
    "\n",
    "if __name__ == '__main__':\n",
    "    mq = queue()\n",
    "    for i in range(10):\n",
    "        mq.append(i)\n",
    "        print((i, list(mq)))"
   ]
  },
  {
   "cell_type": "code",
   "execution_count": 4,
   "metadata": {
    "collapsed": false
   },
   "outputs": [],
   "source": [
    "q1 = queue(5)\n",
    "q2 = queue(3)\n",
    "q3 = queue(7)"
   ]
  },
  {
   "cell_type": "code",
   "execution_count": 6,
   "metadata": {
    "collapsed": false
   },
   "outputs": [
    {
     "name": "stdout",
     "output_type": "stream",
     "text": [
      "deque([], maxlen=5)\n",
      "deque([], maxlen=3)\n",
      "deque([], maxlen=7)\n"
     ]
    }
   ],
   "source": [
    "print(q1)\n",
    "print(q2)\n",
    "print(q3)"
   ]
  },
  {
   "cell_type": "code",
   "execution_count": null,
   "metadata": {
    "collapsed": true
   },
   "outputs": [],
   "source": []
  }
 ],
 "metadata": {
  "kernelspec": {
   "display_name": "Python 3",
   "language": "python",
   "name": "python3"
  },
  "language_info": {
   "codemirror_mode": {
    "name": "ipython",
    "version": 3
   },
   "file_extension": ".py",
   "mimetype": "text/x-python",
   "name": "python",
   "nbconvert_exporter": "python",
   "pygments_lexer": "ipython3",
   "version": "3.5.3"
  }
 },
 "nbformat": 4,
 "nbformat_minor": 2
}
