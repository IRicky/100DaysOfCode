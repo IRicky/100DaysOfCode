{
 "cells": [
  {
   "cell_type": "markdown",
   "metadata": {},
   "source": [
    "In this Bite you complete the divide_numbers function that takes a numerator and a denominator (the number above and below the line respectively when doing a division).\n",
    "\n",
    "First you try to convert them to ints, if that raises a ValueError you will re-raise it (using raise).\n",
    "\n",
    "To keep things simple we can expect this function to be called with int/float/str types only (read the tests why ...)\n",
    "\n",
    "Getting passed that exception (no early bail out, we're still in business) you try to divide numerator by denominator returning its result.\n",
    "\n",
    "If denominator is 0 though, Python throws another exception. Figure out which one that is and catch it. In that case return 0.\n",
    "\n",
    "    \"\"\"For this exercise you can assume numerator and denominator are of type\n",
    "       int/str/float.\n",
    "       Try to convert numerator and denominator to int types, if that raises a\n",
    "       ValueError reraise it. Following do the division and return the result.\n",
    "       However if denominator is 0 catch the corresponding exception Python\n",
    "       throws (cannot divide by 0), and return 0\"\"\"\n",
    "   "
   ]
  },
  {
   "cell_type": "code",
   "execution_count": null,
   "metadata": {
    "collapsed": true
   },
   "outputs": [],
   "source": [
    "import math"
   ]
  },
  {
   "cell_type": "code",
   "execution_count": 142,
   "metadata": {
    "collapsed": false
   },
   "outputs": [],
   "source": [
    "numerator='2'\n",
    "denominator='s'"
   ]
  },
  {
   "cell_type": "code",
   "execution_count": 146,
   "metadata": {
    "collapsed": false
   },
   "outputs": [
    {
     "name": "stdout",
     "output_type": "stream",
     "text": [
      "<class 'ValueError'>\n"
     ]
    }
   ],
   "source": [
    "if type(numerator) is int and type(denominator) is int :\n",
    "    if denominator==0:\n",
    "        raise(ValueError)\n",
    "        print(0)\n",
    "    else:\n",
    "        print(numerator/denominator)\n",
    "elif type(numerator) is float or type(denominator) is float:\n",
    "    if math.floor(denominator)==0:\n",
    "        print(0)\n",
    "    else:\n",
    "        print(math.floor(numerator)/math.floor(denominator))\n",
    "elif type(numerator) is str or type(denominator) is str:\n",
    "    try:\n",
    "        numerator=int(numerator)\n",
    "        denominator=int(denominator)\n",
    "        if denominator==0:\n",
    "            print(0)\n",
    "        else:\n",
    "            print(numerator/denominator)\n",
    "    except TypeError:\n",
    "        print(TypeError)\n",
    "    except ValueError:\n",
    "        print(ValueError)"
   ]
  },
  {
   "cell_type": "code",
   "execution_count": null,
   "metadata": {
    "collapsed": true
   },
   "outputs": [],
   "source": []
  }
 ],
 "metadata": {
  "kernelspec": {
   "display_name": "Python 3",
   "language": "python",
   "name": "python3"
  },
  "language_info": {
   "codemirror_mode": {
    "name": "ipython",
    "version": 3
   },
   "file_extension": ".py",
   "mimetype": "text/x-python",
   "name": "python",
   "nbconvert_exporter": "python",
   "pygments_lexer": "ipython3",
   "version": "3.5.3"
  }
 },
 "nbformat": 4,
 "nbformat_minor": 2
}
