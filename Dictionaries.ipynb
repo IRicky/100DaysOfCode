{
 "cells": [
  {
   "cell_type": "markdown",
   "metadata": {},
   "source": [
    "In this Bite you learn how to lookup values from a dictionary or in Python: dict.\n",
    "\n",
    "You are presented with workout_schedule with keys: days and values: workouts. Complete get_workout_motd that receives a day string, title case it so the function can receive case insensitive days, look it up in the dict and do two things:\n",
    "\n",
    "If the day (key) is not in the dictionary, raise a KeyError, we don't want this function to continue, the caller needs to catch this exception,\n",
    "If the key is in the dictionary, return chill or go_train depending if it's a Rest day or not. The latter you will need to string-interpolate using format.\n",
    "\n",
    "\"\"\"First title case the passed in day argument\n",
    "       (so monday or MONDAY both result in Monday).\n",
    "\n",
    "       Then check if this title cased day is in the given workout_schedule dict.\n",
    "\n",
    "       If it is retrieve the workout (value), if not raise a KeyError.\n",
    "\n",
    "       Return the chill variable if it's a rest day (Saturday / Sunday),\n",
    "       else return the go_train variable with the workout interpolated.\n",
    "\n",
    "       Examples:\n",
    "       - if day is Saturday -> return 'Chill out!'\n",
    "       - if day is Thursday -> return 'Go train Legs'\n",
    "       - if day is Sunday -> return 'Chill out!'\n",
    "       - if day is Monday -> return 'Go train Chest+biceps'\n",
    "\n",
    "       Trivia: /etc/motd is a file on Unix-like systems that contains\n",
    "       a 'message of the day'\"\"\""
   ]
  },
  {
   "cell_type": "code",
   "execution_count": 1,
   "metadata": {
    "collapsed": true
   },
   "outputs": [],
   "source": [
    "workout_schedule = {'Friday': 'Shoulders',\n",
    "                    'Monday': 'Chest+biceps',\n",
    "                    'Saturday': 'Rest',\n",
    "                    'Sunday': 'Rest',\n",
    "                    'Thursday': 'Legs',\n",
    "                    'Tuesday': 'Back+triceps',\n",
    "                    'Wednesday': 'Core'}\n",
    "rest, chill, go_train = 'Rest', 'Chill out!', 'Go train {}'"
   ]
  },
  {
   "cell_type": "code",
   "execution_count": 38,
   "metadata": {
    "collapsed": false
   },
   "outputs": [
    {
     "name": "stdout",
     "output_type": "stream",
     "text": [
      "diamondaY\n"
     ]
    },
    {
     "data": {
      "text/plain": [
       "'Monday'"
      ]
     },
     "execution_count": 38,
     "metadata": {},
     "output_type": "execute_result"
    }
   ],
   "source": [
    "day=input('dia')\n",
    "day=day.title()\n",
    "day"
   ]
  },
  {
   "cell_type": "code",
   "execution_count": 37,
   "metadata": {
    "collapsed": false
   },
   "outputs": [
    {
     "name": "stdout",
     "output_type": "stream",
     "text": [
      "<class 'KeyError'>\n"
     ]
    }
   ],
   "source": [
    "if day in workout_schedule.keys():\n",
    "    if workout_schedule[day]==rest:\n",
    "        print (chill) \n",
    "    else: \n",
    "        print (go_train.format(workout_schedule[day]))\n",
    "else:\n",
    "    print(KeyError)\n",
    "\n",
    "                 "
   ]
  },
  {
   "cell_type": "code",
   "execution_count": null,
   "metadata": {
    "collapsed": true
   },
   "outputs": [],
   "source": []
  }
 ],
 "metadata": {
  "kernelspec": {
   "display_name": "Python 3",
   "language": "python",
   "name": "python3"
  },
  "language_info": {
   "codemirror_mode": {
    "name": "ipython",
    "version": 3
   },
   "file_extension": ".py",
   "mimetype": "text/x-python",
   "name": "python",
   "nbconvert_exporter": "python",
   "pygments_lexer": "ipython3",
   "version": "3.5.3"
  }
 },
 "nbformat": 4,
 "nbformat_minor": 2
}
