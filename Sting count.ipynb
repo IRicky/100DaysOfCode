{
 "cells": [
  {
   "cell_type": "code",
   "execution_count": 3,
   "metadata": {
    "collapsed": true
   },
   "outputs": [],
   "source": [
    "text = \"\"\"\n",
    "The Zen of Python, by Tim Peters\n",
    "\n",
    "Beautiful is better than ugly.\n",
    "Explicit is better than implicit.\n",
    "Simple is better than complex.\n",
    "Complex is better than complicated.\n",
    "Flat is better than nested.\n",
    "Sparse is better than dense.\n",
    "Readability counts.\n",
    "Special cases aren't special enough to break the rules.\n",
    "Although practicality beats purity.\n",
    "Errors should never pass silently.\n",
    "Unless explicitly silenced.\n",
    "In the face of ambiguity, refuse the temptation to guess.\n",
    "There should be one-- and preferably only one --obvious way to do it.\n",
    "Although that way may not be obvious at first unless you're Dutch.\n",
    "Now is better than never.\n",
    "Although never is often better than *right* now.\n",
    "If the implementation is hard to explain, it's a bad idea.\n",
    "If the implementation is easy to explain, it may be a good idea.\n",
    "Namespaces are one honking great idea -- let's do more of those!\n",
    "\"\"\"\n",
    "vowels = 'aeiou'"
   ]
  },
  {
   "cell_type": "markdown",
   "metadata": {
    "collapsed": false
   },
   "source": [
    "\"\"\"Replace all vowels in the input text string by a star\n",
    "       character (*).\n",
    "       Return a tuple of (replaced_text, number_of_vowels_found)\n",
    "\n",
    "       So if this function is called like:\n",
    "       strip_vowels('hello world')\n",
    "\n",
    "       ... it would return:\n",
    "       ('h*ll* w*rld', 3)\n",
    "\n",
    "       The str/int types in the function defintion above are part\n",
    "       of Python's new type hinting:\n",
    "       https://docs.python.org/3/library/typing.html\"\"\""
   ]
  },
  {
   "cell_type": "code",
   "execution_count": 9,
   "metadata": {
    "collapsed": false
   },
   "outputs": [
    {
     "name": "stdout",
     "output_type": "stream",
     "text": [
      "262\n",
      "\n",
      "th* z*n *f pyth*n, by t*m p*t*rs\n",
      "\n",
      "b***t*f*l *s b*tt*r th*n *gly.\n",
      "*xpl*c*t *s b*tt*r th*n *mpl*c*t.\n",
      "s*mpl* *s b*tt*r th*n c*mpl*x.\n",
      "c*mpl*x *s b*tt*r th*n c*mpl*c*t*d.\n",
      "fl*t *s b*tt*r th*n n*st*d.\n",
      "sp*rs* *s b*tt*r th*n d*ns*.\n",
      "r**d*b*l*ty c**nts.\n",
      "sp*c**l c*s*s *r*n't sp*c**l *n**gh t* br**k th* r*l*s.\n",
      "*lth**gh pr*ct*c*l*ty b**ts p*r*ty.\n",
      "*rr*rs sh**ld n*v*r p*ss s*l*ntly.\n",
      "*nl*ss *xpl*c*tly s*l*nc*d.\n",
      "*n th* f*c* *f *mb*g**ty, r*f*s* th* t*mpt*t**n t* g**ss.\n",
      "th*r* sh**ld b* *n*-- *nd pr*f*r*bly *nly *n* --*bv***s w*y t* d* *t.\n",
      "*lth**gh th*t w*y m*y n*t b* *bv***s *t f*rst *nl*ss y**'r* d*tch.\n",
      "n*w *s b*tt*r th*n n*v*r.\n",
      "*lth**gh n*v*r *s *ft*n b*tt*r th*n *r*ght* n*w.\n",
      "*f th* *mpl*m*nt*t**n *s h*rd t* *xpl**n, *t's * b*d *d**.\n",
      "*f th* *mpl*m*nt*t**n *s **sy t* *xpl**n, *t m*y b* * g**d *d**.\n",
      "n*m*sp*c*s *r* *n* h*nk*ng gr**t *d** -- l*t's d* m*r* *f th*s*!\n",
      "\n"
     ]
    }
   ],
   "source": [
    "cont=0\n",
    "lista=list(text.lower())\n",
    "for letra in range(len(lista)):\n",
    "    if lista[letra] in vowels:\n",
    "        lista[letra]='*'\n",
    "        cont=cont+1\n",
    "print(cont)\n",
    "print(''.join(lista))"
   ]
  },
  {
   "cell_type": "code",
   "execution_count": null,
   "metadata": {
    "collapsed": true
   },
   "outputs": [],
   "source": []
  },
  {
   "cell_type": "code",
   "execution_count": null,
   "metadata": {
    "collapsed": true
   },
   "outputs": [],
   "source": []
  }
 ],
 "metadata": {
  "kernelspec": {
   "display_name": "Python 3",
   "language": "python",
   "name": "python3"
  },
  "language_info": {
   "codemirror_mode": {
    "name": "ipython",
    "version": 3
   },
   "file_extension": ".py",
   "mimetype": "text/x-python",
   "name": "python",
   "nbconvert_exporter": "python",
   "pygments_lexer": "ipython3",
   "version": "3.5.3"
  }
 },
 "nbformat": 4,
 "nbformat_minor": 2
}
