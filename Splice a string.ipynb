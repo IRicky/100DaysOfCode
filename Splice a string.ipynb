{
 "cells": [
  {
   "cell_type": "markdown",
   "metadata": {},
   "source": [
    "Tome el bloque de texto proporcionado y strip el espacio en blanco en ambos extremos. Dividir el texto por nueva línea (\\n).\n",
    "\n",
    "Recorre las líneas, para cada línea:\n",
    "\n",
    "quite los espacios iniciales,\n",
    "compruebe si el primer carácter está en minúsculas,\n",
    "si es así, divida la línea en palabras y obtenga la última palabra,\n",
    "quite el punto final (.!\n",
    "y finalmente añadirla a la lista de results."
   ]
  },
  {
   "cell_type": "code",
   "execution_count": 320,
   "metadata": {
    "collapsed": true
   },
   "outputs": [],
   "source": [
    "from string import ascii_lowercase\n",
    "\n",
    "text = \"\"\"\n",
    "One really nice feature of Python is polymorphism: using the same operation\n",
    "on different types of objects.\n",
    "Let's talk about an elegant feature: slicing.\n",
    "You can use this on a string as well as a list for example\n",
    "'pybites'[0:2] gives 'py'.\n",
    "The first value is inclusive and the last one is exclusive so\n",
    "here we grab indexes 0 and 1, the letter p and y.\n",
    "When you have a 0 index you can leave it out so can write this as 'pybites'[:2]\n",
    "but here is the kicker: you can use this on a list too!\n",
    "['pybites', 'teaches', 'you', 'Python'][-2:] would gives ['you', 'Python']\n",
    "  and now you know about slicing from the end as well :)\n",
    "keep enjoying our bites!\n",
    "\"\"\""
   ]
  },
  {
   "cell_type": "code",
   "execution_count": 321,
   "metadata": {
    "collapsed": false
   },
   "outputs": [
    {
     "name": "stdout",
     "output_type": "stream",
     "text": [
      "['objects', 'y', 'too', ':)', 'bites']\n"
     ]
    }
   ],
   "source": [
    "fin = []\n",
    "test=[]\n",
    "new=''\n",
    "new=text[1:len(text)-1]\n",
    "test=new.split('\\n')\n",
    "test2=[]\n",
    "test3=[]\n",
    "test4=[]\n",
    "for line in range(len(test)):\n",
    "    if test[line][0:1]==' ':\n",
    "        test[line]=\" \".join(test[line].split())\n",
    "    if test[line][0:1].islower():\n",
    "        test2.extend(test[line].split('\\n'))\n",
    "\n",
    "for word in range(len(test2)):  \n",
    "    test3.extend(test2[word].split()[-1:])\n",
    "for wr in range(len(test3)):\n",
    "    if test3[wr][-1:]=='.':\n",
    "        fin.append(test3[wr].replace('.',''))\n",
    "    elif test3[wr][-1:]=='!':\n",
    "        fin.append(test3[wr].replace('!',''))\n",
    "    else:\n",
    "        fin.append(test3[wr])\n",
    "print(fin)"
   ]
  },
  {
   "cell_type": "code",
   "execution_count": 330,
   "metadata": {
    "collapsed": false
   },
   "outputs": [
    {
     "ename": "SyntaxError",
     "evalue": "'return' outside function (<ipython-input-330-6da051d3f674>, line 9)",
     "output_type": "error",
     "traceback": [
      "\u001b[0;36m  File \u001b[0;32m\"<ipython-input-330-6da051d3f674>\"\u001b[0;36m, line \u001b[0;32m9\u001b[0m\n\u001b[0;31m    return (results)\u001b[0m\n\u001b[0m                    ^\u001b[0m\n\u001b[0;31mSyntaxError\u001b[0m\u001b[0;31m:\u001b[0m 'return' outside function\n"
     ]
    }
   ],
   "source": [
    "results = []\n",
    "for line in text.strip().splitlines():\n",
    "    line = line.lstrip()\n",
    "    if line[0] not in ascii_lowercase:\n",
    "        continue\n",
    "    words = line.split()\n",
    "    last_word_stripped = words[-1].rstrip('!.')\n",
    "    results.append(last_word_stripped)\n",
    "return (results)"
   ]
  },
  {
   "cell_type": "code",
   "execution_count": null,
   "metadata": {
    "collapsed": true
   },
   "outputs": [],
   "source": []
  }
 ],
 "metadata": {
  "kernelspec": {
   "display_name": "Python 3",
   "language": "python",
   "name": "python3"
  },
  "language_info": {
   "codemirror_mode": {
    "name": "ipython",
    "version": 3
   },
   "file_extension": ".py",
   "mimetype": "text/x-python",
   "name": "python",
   "nbconvert_exporter": "python",
   "pygments_lexer": "ipython3",
   "version": "3.5.3"
  }
 },
 "nbformat": 4,
 "nbformat_minor": 2
}
