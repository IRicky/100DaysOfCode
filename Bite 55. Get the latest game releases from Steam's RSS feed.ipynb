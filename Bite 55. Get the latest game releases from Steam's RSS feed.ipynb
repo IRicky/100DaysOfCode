{
 "cells": [
  {
   "cell_type": "code",
   "execution_count": 49,
   "metadata": {
    "collapsed": false
   },
   "outputs": [],
   "source": [
    "from collections import namedtuple\n",
    "\n",
    "import feedparser\n",
    "\n",
    "# cached version to have predictable results for testing\n",
    "FEED_URL = \"http://bit.ly/2IkFe9B\"\n",
    "\n",
    "Game = namedtuple('Game', 'title link')\n",
    "def parseRSS(rss_url):\n",
    "    return feedparser.parse(rss_url)\n",
    "def get_games():\n",
    "    Juegos=[]\n",
    "    Game = namedtuple('Game', 'title link')\n",
    "    Juego= parseRSS(FEED_URL)\n",
    "    for words in Juego['items']:\n",
    "        Juegos.append(Game(title=words['title'],link=words['link']))\n",
    "        #titles.append(words['title'])\n",
    "    return Juegos"
   ]
  },
  {
   "cell_type": "code",
   "execution_count": 52,
   "metadata": {
    "collapsed": false
   },
   "outputs": [],
   "source": [
    "juegui=get_games()"
   ]
  },
  {
   "cell_type": "code",
   "execution_count": 58,
   "metadata": {
    "collapsed": false,
    "scrolled": true
   },
   "outputs": [
    {
     "data": {
      "text/plain": [
       "'Midweek Madness - RiME, 33% Off'"
      ]
     },
     "execution_count": 58,
     "metadata": {},
     "output_type": "execute_result"
    }
   ],
   "source": [
    "juegui[0].title"
   ]
  },
  {
   "cell_type": "code",
   "execution_count": null,
   "metadata": {
    "collapsed": false
   },
   "outputs": [],
   "source": []
  },
  {
   "cell_type": "code",
   "execution_count": null,
   "metadata": {
    "collapsed": false
   },
   "outputs": [],
   "source": []
  },
  {
   "cell_type": "code",
   "execution_count": null,
   "metadata": {
    "collapsed": true
   },
   "outputs": [],
   "source": []
  }
 ],
 "metadata": {
  "kernelspec": {
   "display_name": "Python 3",
   "language": "python",
   "name": "python3"
  },
  "language_info": {
   "codemirror_mode": {
    "name": "ipython",
    "version": 3
   },
   "file_extension": ".py",
   "mimetype": "text/x-python",
   "name": "python",
   "nbconvert_exporter": "python",
   "pygments_lexer": "ipython3",
   "version": "3.5.3"
  }
 },
 "nbformat": 4,
 "nbformat_minor": 2
}
